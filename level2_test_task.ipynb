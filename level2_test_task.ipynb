{
  "nbformat": 4,
  "nbformat_minor": 0,
  "metadata": {
    "colab": {
      "provenance": []
    },
    "kernelspec": {
      "name": "python3",
      "display_name": "Python 3"
    },
    "language_info": {
      "name": "python"
    }
  },
  "cells": [
    {
      "cell_type": "code",
      "execution_count": null,
      "metadata": {
        "collapsed": true,
        "id": "-w5z-KjPLreK"
      },
      "outputs": [],
      "source": [
        "pip install google-cloud-bigquery"
      ]
    },
    {
      "cell_type": "code",
      "source": [
        "pip install pandas"
      ],
      "metadata": {
        "collapsed": true,
        "id": "FHUo4_d5Ltn_"
      },
      "execution_count": null,
      "outputs": []
    },
    {
      "cell_type": "code",
      "source": [
        "from google.cloud import bigquery\n",
        "from google.oauth2 import service_account\n",
        "from concurrent.futures import ThreadPoolExecutor, as_completed\n",
        "import pandas as pd\n",
        "from google.oauth2.service_account import Credentials\n",
        "import gspread\n",
        "from gspread_dataframe import set_with_dataframe\n",
        "from oauth2client.service_account import ServiceAccountCredentials\n",
        "\n",
        "\n",
        "credentials = service_account.Credentials.from_service_account_file('creds')\n",
        "\n",
        "project_id = 'level-2-test-task-newage'\n",
        "client = bigquery.Client(credentials=credentials, project=project_id)\n",
        "\n",
        "def query_bigquery(sql):\n",
        "        query_job = client.query(sql)\n",
        "        results = query_job.result()\n",
        "        return [dict(row) for row in results]\n",
        "\n",
        "def get_query(city):\n",
        "    return f\"\"\"\n",
        "    SELECT\n",
        "      visitId,\n",
        "      fullVisitorId,\n",
        "      visitStartTime,\n",
        "      date,\n",
        "      totals.visits,\n",
        "      geoNetwork.country,\n",
        "      geoNetwork.region,\n",
        "      geoNetwork.city,\n",
        "      device.browser,\n",
        "      device.operatingSystem,\n",
        "      device.isMobile\n",
        "\n",
        "    FROM\n",
        "      `bigquery-public-data.google_analytics_sample.ga_sessions_20170801`\n",
        "    WHERE\n",
        "      geoNetwork.city = '{city}'\n",
        "    \"\"\"\n",
        "\n",
        "def fetch_data_concurrently(cities):\n",
        "    results = {}\n",
        "    with ThreadPoolExecutor(max_workers=len(cities)) as executor:\n",
        "        futures = {executor.submit(query_bigquery, get_query(city)): city for city in cities}\n",
        "        for future in as_completed(futures):\n",
        "            city = futures[future]\n",
        "            data = future.result()\n",
        "            results[city] = data\n",
        "    return results\n",
        "\n",
        "cities = [\"Sydney\", \"San Francisco\", \"London\", \"Tokyo\",\"Chicago\",\"Maharashtra\", \"Berlin\"]\n",
        "\n",
        "results = fetch_data_concurrently(cities)\n",
        "\n",
        "dfs = []\n",
        "for city, data in results.items():\n",
        "    df = pd.DataFrame(data)\n",
        "    df['city'] = city\n",
        "    dfs.append(df)\n",
        "\n",
        "united_df = pd.concat(dfs, ignore_index=True)\n",
        "\n",
        "visitid_count = united_df.groupby(['country', 'region', 'city']).agg(\n",
        "    visit_count=('visitId', 'count')\n",
        ").reset_index()\n",
        "\n",
        "unique_visitid_count = united_df.groupby(['country', 'region', 'city']).agg(\n",
        "    unique_visitor_count=('fullVisitorId', pd.Series.nunique)\n",
        ").reset_index()\n",
        "\n",
        "user_count = pd.merge(visitid_count, unique_visitid_count, on=['country', 'region', 'city'])\n",
        "\n",
        "\n",
        "scope = ['https://spreadsheets.google.com/feeds', 'https://www.googleapis.com/auth/drive']\n",
        "credentials = ServiceAccountCredentials.from_json_keyfile_name('creds', scope)\n",
        "client = gspread.authorize(credentials)\n",
        "\n",
        "spreadsheet_url = 'https://docs.google.com/spreadsheets/d/1CxuDtCA39TtHkc2KT-oiywkXjHZ_BRjNuB3_FJPNcko/edit#gid=0'\n",
        "spreadsheet = client.open_by_url(spreadsheet_url)\n",
        "\n",
        "united_df = pd.concat(dfs, ignore_index=True)\n",
        "\n",
        "united_df['visitStartTime'] = pd.to_datetime(united_df['visitStartTime'], unit='s')\n",
        "\n",
        "united_df = united_df.rename(columns={\n",
        "    'visitId': 'Visit ID',\n",
        "    'fullVisitorId': 'Full Visitor ID',\n",
        "    'visitStartTime': 'Visit Start Time',\n",
        "    'date': 'Date',\n",
        "    'totals.visits': 'Total Visits',\n",
        "    'geoNetwork.country': 'Country',\n",
        "    'geoNetwork.region': 'Region',\n",
        "    'geoNetwork.city': 'City',\n",
        "    'device.browser': 'Browser',\n",
        "    'device.operatingSystem': 'Operating System',\n",
        "    'device.isMobile': 'Is Mobile'\n",
        "})\n",
        "\n",
        "visitid_count = united_df.groupby(['country', 'region', 'city']).agg(visit_count=('Visit ID', 'count')).reset_index()\n",
        "\n",
        "unique_visitid_count = united_df.groupby(['country', 'region', 'city']).agg(unique_visitor_count=('Full Visitor ID', pd.Series.nunique)).reset_index()\n",
        "user_count = pd.merge(visitid_count, unique_visitid_count, on=['country', 'region', 'city'])\n",
        "\n",
        "user_count_by_country_and_device = united_df.groupby(['country', 'isMobile'])['Full Visitor ID'].nunique().unstack(fill_value=0)\n",
        "\n",
        "user_count_by_country_and_device['Total'] = user_count_by_country_and_device.sum(axis=1)\n",
        "\n",
        "user_count_by_country_and_device = user_count_by_country_and_device.rename(columns={False: 'Desktop', True: 'Mobile'})\n",
        "\n",
        "user_count_by_country_and_device = user_count_by_country_and_device.reset_index()\n",
        "\n",
        "def write_to_sheet(worksheet_title, dataframe):\n",
        "    worksheet = spreadsheet.add_worksheet(title=worksheet_title, rows=\"1000\", cols=\"20\")\n",
        "    set_with_dataframe(worksheet, dataframe)\n",
        "\n",
        "with ThreadPoolExecutor(max_workers=2) as executor:\n",
        "    futures = []\n",
        "    futures.append(executor.submit(write_to_sheet, 'Aggregated Data', united_df))\n",
        "    futures.append(executor.submit(write_to_sheet, 'User Count by Country and Device', user_count_by_country_and_device))\n",
        "    futures.append(executor.submit(write_to_sheet, 'User/Unique user count', user_count))\n",
        "\n",
        "    for future in futures:\n",
        "        future.result()\n",
        "\n",
        "spreadsheet.del_worksheet(spreadsheet.get_worksheet(0))\n",
        "\n",
        "print(\"OK\")\n"
      ],
      "metadata": {
        "colab": {
          "base_uri": "https://localhost:8080/"
        },
        "id": "Q5ati_jmadwi",
        "outputId": "8c0b6283-7cf8-43d1-fe74-868e9dcdbe32"
      },
      "execution_count": null,
      "outputs": [
        {
          "output_type": "stream",
          "name": "stdout",
          "text": [
            "OK\n"
          ]
        }
      ]
    }
  ]
}