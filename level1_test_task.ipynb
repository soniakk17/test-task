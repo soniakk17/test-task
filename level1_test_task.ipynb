{
  "nbformat": 4,
  "nbformat_minor": 0,
  "metadata": {
    "colab": {
      "provenance": []
    },
    "kernelspec": {
      "name": "python3",
      "display_name": "Python 3"
    },
    "language_info": {
      "name": "python"
    }
  },
  "cells": [
    {
      "cell_type": "code",
      "execution_count": 2,
      "metadata": {
        "colab": {
          "base_uri": "https://localhost:8080/",
          "height": 201
        },
        "id": "3sWl4AgIH7Pj",
        "outputId": "d67a9774-392c-4eb5-a387-84d30ead5570"
      },
      "outputs": [
        {
          "output_type": "stream",
          "name": "stdout",
          "text": [
            "Collecting asyncio\n",
            "  Downloading asyncio-3.4.3-py3-none-any.whl (101 kB)\n",
            "\u001b[?25l     \u001b[90m━━━━━━━━━━━━━━━━━━━━━━━━━━━━━━━━━━━━━━━━\u001b[0m \u001b[32m0.0/101.8 kB\u001b[0m \u001b[31m?\u001b[0m eta \u001b[36m-:--:--\u001b[0m\r\u001b[2K     \u001b[90m━━━━━━━━━━━━━━━━━━━━━━━━━━━━━━━━━━━━━━━━\u001b[0m \u001b[32m101.8/101.8 kB\u001b[0m \u001b[31m2.9 MB/s\u001b[0m eta \u001b[36m0:00:00\u001b[0m\n",
            "\u001b[?25hInstalling collected packages: asyncio\n",
            "Successfully installed asyncio-3.4.3\n"
          ]
        },
        {
          "output_type": "display_data",
          "data": {
            "application/vnd.colab-display-data+json": {
              "pip_warning": {
                "packages": [
                  "asyncio"
                ]
              },
              "id": "13953033fdd6427a94a0733394a75204"
            }
          },
          "metadata": {}
        }
      ],
      "source": [
        "pip install asyncio"
      ]
    },
    {
      "cell_type": "code",
      "source": [
        "pip install aiohttp"
      ],
      "metadata": {
        "colab": {
          "base_uri": "https://localhost:8080/"
        },
        "id": "U1-MOsXRQ0Ve",
        "outputId": "0747d543-5ccb-45ec-c7be-84c85ba42cd9"
      },
      "execution_count": null,
      "outputs": [
        {
          "output_type": "stream",
          "name": "stdout",
          "text": [
            "Requirement already satisfied: aiohttp in /usr/local/lib/python3.10/dist-packages (3.9.5)\n",
            "Requirement already satisfied: aiosignal>=1.1.2 in /usr/local/lib/python3.10/dist-packages (from aiohttp) (1.3.1)\n",
            "Requirement already satisfied: attrs>=17.3.0 in /usr/local/lib/python3.10/dist-packages (from aiohttp) (23.2.0)\n",
            "Requirement already satisfied: frozenlist>=1.1.1 in /usr/local/lib/python3.10/dist-packages (from aiohttp) (1.4.1)\n",
            "Requirement already satisfied: multidict<7.0,>=4.5 in /usr/local/lib/python3.10/dist-packages (from aiohttp) (6.0.5)\n",
            "Requirement already satisfied: yarl<2.0,>=1.0 in /usr/local/lib/python3.10/dist-packages (from aiohttp) (1.9.4)\n",
            "Requirement already satisfied: async-timeout<5.0,>=4.0 in /usr/local/lib/python3.10/dist-packages (from aiohttp) (4.0.3)\n",
            "Requirement already satisfied: idna>=2.0 in /usr/local/lib/python3.10/dist-packages (from yarl<2.0,>=1.0->aiohttp) (3.7)\n"
          ]
        }
      ]
    },
    {
      "cell_type": "code",
      "source": [
        "pip install nest_asyncio\n"
      ],
      "metadata": {
        "colab": {
          "base_uri": "https://localhost:8080/"
        },
        "id": "Yu7sxOxDRlzS",
        "outputId": "2c6dcd1d-70b2-488c-ca4a-658228a0cd60"
      },
      "execution_count": null,
      "outputs": [
        {
          "output_type": "stream",
          "name": "stdout",
          "text": [
            "Requirement already satisfied: nest_asyncio in /usr/local/lib/python3.10/dist-packages (1.6.0)\n"
          ]
        }
      ]
    },
    {
      "cell_type": "code",
      "source": [
        "pip install pandas"
      ],
      "metadata": {
        "colab": {
          "base_uri": "https://localhost:8080/"
        },
        "id": "6B2QiewkTJR3",
        "outputId": "d3892766-096f-4c21-eca9-11d73ee952ee"
      },
      "execution_count": null,
      "outputs": [
        {
          "output_type": "stream",
          "name": "stdout",
          "text": [
            "Requirement already satisfied: pandas in /usr/local/lib/python3.10/dist-packages (2.0.3)\n",
            "Requirement already satisfied: python-dateutil>=2.8.2 in /usr/local/lib/python3.10/dist-packages (from pandas) (2.8.2)\n",
            "Requirement already satisfied: pytz>=2020.1 in /usr/local/lib/python3.10/dist-packages (from pandas) (2023.4)\n",
            "Requirement already satisfied: tzdata>=2022.1 in /usr/local/lib/python3.10/dist-packages (from pandas) (2024.1)\n",
            "Requirement already satisfied: numpy>=1.21.0 in /usr/local/lib/python3.10/dist-packages (from pandas) (1.25.2)\n",
            "Requirement already satisfied: six>=1.5 in /usr/local/lib/python3.10/dist-packages (from python-dateutil>=2.8.2->pandas) (1.16.0)\n"
          ]
        }
      ]
    },
    {
      "cell_type": "code",
      "source": [
        "import aiohttp\n",
        "import asyncio\n",
        "import os\n",
        "import pandas as pd\n",
        "from PIL import Image\n",
        "from io import BytesIO"
      ],
      "metadata": {
        "id": "UtHzTnJGQbvP"
      },
      "execution_count": 39,
      "outputs": []
    },
    {
      "cell_type": "code",
      "source": [
        "async def get_image_size(session, url):\n",
        "    try:\n",
        "      async with session.get(url) as response:\n",
        "        if response.status == 200:\n",
        "            image_data = await response.read()\n",
        "            image = Image.open(BytesIO(image_data))\n",
        "            return image.size\n",
        "    except Exception as e:\n",
        "      pass"
      ],
      "metadata": {
        "id": "X9yV_BUPbYjw"
      },
      "execution_count": null,
      "outputs": []
    },
    {
      "cell_type": "code",
      "source": [
        "async def process_images(urls):\n",
        "    async with aiohttp.ClientSession() as session:\n",
        "        tasks = [get_image_size(session, url) for url in urls]\n",
        "        image_sizes = await asyncio.gather(*tasks)\n",
        "        return image_sizes\n",
        "\n",
        "# Загрузка данных из таблицы\n",
        "df = pd.read_csv('/content/Parser_ImageSize - feed.csv')\n",
        "urls = df['image_url'].tolist()"
      ],
      "metadata": {
        "id": "BS4UAVGsbbw9"
      },
      "execution_count": null,
      "outputs": []
    },
    {
      "cell_type": "code",
      "source": [
        "task_pool = 1000\n",
        "\n",
        "bunches = [urls[i:i+task_pool] for i in range(0, len(urls), task_pool)]\n",
        "\n",
        "image_sizes = []\n",
        "for bunch in bunches:\n",
        "    results = asyncio.run(process_images(bunch))\n",
        "    image_sizes.extend(results)"
      ],
      "metadata": {
        "id": "ydhUnKhybfCQ"
      },
      "execution_count": null,
      "outputs": []
    },
    {
      "cell_type": "code",
      "source": [
        "widths = []\n",
        "heights = []\n",
        "\n",
        "for size in image_sizes:\n",
        "    if size:\n",
        "        widths.append(size[0])\n",
        "        heights.append(size[1])\n",
        "    else:\n",
        "        widths.append(None)\n",
        "        heights.append(None)"
      ],
      "metadata": {
        "id": "vLf6iCNQbl9h"
      },
      "execution_count": null,
      "outputs": []
    },
    {
      "cell_type": "code",
      "source": [
        "widths_x_heights = [f\"{w}x{h}\" if w is not None and h is not None else None for w, h in zip(widths, heights)]\n",
        "\n",
        "df['SIZE'] = widths_x_heights\n",
        "\n",
        "df.to_csv('/content/Parser_ImageSize - feed.csv', index=False)"
      ],
      "metadata": {
        "id": "IMU9ZsCGbmxV"
      },
      "execution_count": null,
      "outputs": []
    }
  ]
}