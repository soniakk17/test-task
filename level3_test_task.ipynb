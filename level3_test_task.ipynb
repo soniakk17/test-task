{
  "nbformat": 4,
  "nbformat_minor": 0,
  "metadata": {
    "colab": {
      "provenance": []
    },
    "kernelspec": {
      "name": "python3",
      "display_name": "Python 3"
    },
    "language_info": {
      "name": "python"
    }
  },
  "cells": [
    {
      "cell_type": "code",
      "execution_count": null,
      "metadata": {
        "id": "TcdF43jB1_vL"
      },
      "outputs": [],
      "source": [
        "!apt-get install -y chromium-browser\n",
        "!apt install chromium-chromedriver\n",
        "!apt install chromium chromium-driver"
      ]
    },
    {
      "cell_type": "code",
      "source": [
        "pip install selenium"
      ],
      "metadata": {
        "id": "6fkPVW9h2b6U"
      },
      "execution_count": null,
      "outputs": []
    },
    {
      "cell_type": "code",
      "source": [
        "pip install selenium-stealth"
      ],
      "metadata": {
        "id": "htQFV4Eq2kCF"
      },
      "execution_count": null,
      "outputs": []
    },
    {
      "cell_type": "code",
      "source": [
        "import time\n",
        "import pandas as pd\n",
        "from selenium import webdriver\n",
        "from selenium_stealth import stealth\n",
        "from selenium.webdriver.common.by import By"
      ],
      "metadata": {
        "id": "xiN_-EBo2pqg"
      },
      "execution_count": null,
      "outputs": []
    },
    {
      "cell_type": "code",
      "source": [
        "def web_driver():\n",
        "  options = webdriver.ChromeOptions()\n",
        "  options.add_argument('--no-sandbox')\n",
        "  options.add_argument('--headless')\n",
        "  options.add_argument('--disable-gpu')\n",
        "  options.add_argument('--disable-dve-shm-usage')\n",
        "  options.add_argument(\"user-agent='Mozilla/5.0 (Macintosh; Intel Mac OS X 10_15_7) AppleWebKit/537.36 (KHTML, like Gecko) Chrome/125.0.0.0 Safari/537.36'\")\n",
        "\n",
        "  driver = webdriver.Chrome(options=options)\n",
        "\n",
        "  return driver\n",
        "\n",
        "driver=web_driver()"
      ],
      "metadata": {
        "id": "L12jy6uE22pn"
      },
      "execution_count": null,
      "outputs": []
    },
    {
      "cell_type": "code",
      "source": [
        "stealth (driver,\n",
        "        languages=[\"en-US\", \"en\"],\n",
        "        vendor=\"Google Inc.\",\n",
        "        platform=\"Win32\",\n",
        "        webgl_vendor=\"Intel Inc.\",\n",
        "        renderer=\"Intel Iris OpenGL Engine\",\n",
        "        fix_hairline=True,\n",
        "        )"
      ],
      "metadata": {
        "id": "HZloHKO_3IDQ"
      },
      "execution_count": null,
      "outputs": []
    },
    {
      "cell_type": "code",
      "source": [
        "driver.get(\"https://www.olx.ua/uk/nedvizhimost/kvartiry/?currency=UAH\")\n",
        "time.sleep(3)\n",
        "\n",
        "urls = []\n",
        "\n",
        "blocks = driver.find_element(By.CSS_SELECTOR, '[data-testid=\"listing-grid\"]')\n",
        "posts = blocks.find_elements(By.CLASS_NAME, 'css-1ut25fa')\n",
        "\n",
        "for post in posts:\n",
        "  url = post.find_element(By.CLASS_NAME, 'css-z3gu2d').get_attribute('href')\n",
        "  urls.append(url)"
      ],
      "metadata": {
        "id": "W--8qyKL3sSh"
      },
      "execution_count": null,
      "outputs": []
    },
    {
      "cell_type": "code",
      "source": [
        "urls_df = pd.DataFrame(urls)"
      ],
      "metadata": {
        "id": "TJI3shz_6Fgz"
      },
      "execution_count": null,
      "outputs": []
    },
    {
      "cell_type": "code",
      "source": [
        "data = []\n",
        "\n",
        "for url in urls:\n",
        "    driver.get(url)\n",
        "\n",
        "    time.sleep(3)\n",
        "\n",
        "    storey = driver.find_element(By.CSS_SELECTOR, '#mainContent > div.css-118kolg > div:nth-child(3) > div.css-n9feq4 > div:nth-child(3) > ul > li:nth-child(3) > p').text\n",
        "    number_of_storeys = driver.find_element(By.CSS_SELECTOR, '#mainContent > div.css-118kolg > div:nth-child(3) > div.css-n9feq4 > div:nth-child(3) > ul > li:nth-child(4) > p').text\n",
        "    apartment_area = driver.find_element(By.CSS_SELECTOR, '#mainContent > div.css-118kolg > div:nth-child(3) > div.css-n9feq4 > div:nth-child(3) > ul > li:nth-child(5) > p').text\n",
        "    locality = driver.find_element(By.CSS_SELECTOR, '#mainContent > div.css-118kolg > div:nth-child(3) > div.css-6u8zs6 > div:nth-child(2) > div > section > div.css-13l8eec > div > p.css-1cju8pu.er34gjf0').text\n",
        "    price = driver.find_element(By.CSS_SELECTOR, '#mainContent > div.css-118kolg > div:nth-child(3) > div.css-n9feq4 > div:nth-child(2) > div.css-kii8tg > div > div > h3').text\n",
        "\n",
        "    data.append({'Storey': storey,'Number_of_storeys': number_of_storeys,'Apartment_area': apartment_area,'Locality': locality,'Price': price})\n",
        "\n",
        "data_df = pd.DataFrame(data)\n",
        "\n",
        "result_df = pd.concat([urls_df, data_df])\n",
        "\n",
        "result_df.to_csv('Result data.csv', index=False)\n"
      ],
      "metadata": {
        "id": "qq9TDB9t7U3e"
      },
      "execution_count": null,
      "outputs": []
    }
  ]
}